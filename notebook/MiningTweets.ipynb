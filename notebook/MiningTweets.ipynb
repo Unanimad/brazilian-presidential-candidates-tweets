{
  "nbformat": 4,
  "nbformat_minor": 0,
  "metadata": {
    "colab": {
      "name": "Mining Tweets.ipynb",
      "version": "0.3.2",
      "provenance": []
    },
    "kernelspec": {
      "name": "python3",
      "display_name": "Python 3"
    }
  },
  "cells": [
    {
      "cell_type": "code",
      "metadata": {
        "id": "cUZMqpWWSZJf",
        "colab_type": "code",
        "colab": {}
      },
      "source": [
        "import time\n",
        "import csv\n",
        "import datetime\n",
        "\n",
        "import twitter"
      ],
      "execution_count": 0,
      "outputs": []
    },
    {
      "cell_type": "code",
      "metadata": {
        "id": "EiDf5ODWScrk",
        "colab_type": "code",
        "colab": {}
      },
      "source": [
        "def conn_api(consumer_key, consumer_secret, access_token_key, \n",
        "             access_token_secret):\n",
        "    \"\"\" Connect to Twitter API\n",
        "    Returns:\n",
        "        object: Connection\n",
        "    \"\"\"\n",
        "    api = twitter.Api(\n",
        "        consumer_key=consumer_key,\n",
        "        consumer_secret=consumer_secret,\n",
        "        access_token_key=access_token_key,\n",
        "        access_token_secret=access_token_secret,\n",
        "        sleep_on_rate_limit=True,\n",
        "        tweet_mode='extended'\n",
        "    )\n",
        "\n",
        "    return api"
      ],
      "execution_count": 0,
      "outputs": []
    },
    {
      "cell_type": "code",
      "metadata": {
        "id": "BW5RdUlWSeDz",
        "colab_type": "code",
        "colab": {}
      },
      "source": [
        "def twitter_date(value):\n",
        "    \"\"\"Convert Twitter date to Datetime object\n",
        "    Args:\n",
        "        value (str): Twitter date\n",
        "    Returns:\n",
        "        datetime: Converted datetime object\n",
        "    \"\"\"\n",
        "    split_date = value.split()\n",
        "    del split_date[0], split_date[-2]\n",
        "    value = ' '.join(split_date)\n",
        "\n",
        "    return datetime.datetime.strptime(value, '%b %d %H:%M:%S %Y')"
      ],
      "execution_count": 0,
      "outputs": []
    },
    {
      "cell_type": "code",
      "metadata": {
        "id": "anAqUnu2Sfe7",
        "colab_type": "code",
        "colab": {}
      },
      "source": [
        "def get_statuses_between_dates(api, screen_name, start_at, end_at, writer):\n",
        "    \"\"\" Get User Tweets between two dates\n",
        "    Args:\n",
        "        screen_name (str): The screen name, handle, or alias that\n",
        "                            this user identifies themselves with.\n",
        "        start_at (datetime): When the mining started\n",
        "        end_at (datetime): When the mining ended\n",
        "        save (bool): If True save status into database\n",
        "        writer (object): Writer object\n",
        "    Returns:\n",
        "        Saved tweets\n",
        "    \"\"\"\n",
        "\n",
        "    last_id = 0 \n",
        "    tweets = []\n",
        "\n",
        "    start_at = datetime.datetime.strptime(start_at, '%d%m%Y')\n",
        "    end_at = datetime.datetime.strptime(end_at, '%d%m%Y')\n",
        "\n",
        "    print(f\"Fetching tweets from @{screen_name}!\")\n",
        "\n",
        "    tmp_statuses = api.GetUserTimeline(screen_name=screen_name, trim_user=True)\n",
        "\n",
        "    for status in tmp_statuses:\n",
        "        created_at = twitter_date(status.created_at)\n",
        "\n",
        "        if start_at < created_at < end_at:\n",
        "            if status.id not in tweets:\n",
        "                tweets.append(status.id)\n",
        "                add_status(status, screen_name, writer)\n",
        "\n",
        "    while (twitter_date(tmp_statuses[-1].created_at) > start_at):\n",
        "        tmp_statuses = api.GetUserTimeline(\n",
        "            screen_name=screen_name, trim_user=True, max_id=tmp_statuses[-1].id)\n",
        "\n",
        "        if status.id == tmp_statuses[-1].id:\n",
        "            print(f'More than 3.2k tweets were post since {end_at}')\n",
        "            break\n",
        "\n",
        "        last_id = tmp_statuses[-1].id\n",
        "\n",
        "        for status in tmp_statuses:\n",
        "            created_at = twitter_date(status.created_at)\n",
        "\n",
        "            if start_at < created_at < end_at:\n",
        "                if status.id not in tweets:\n",
        "                    tweets.append(status.id)\n",
        "                    add_status(status, screen_name, writer)\n",
        "\n",
        "    tweets = []"
      ],
      "execution_count": 0,
      "outputs": []
    },
    {
      "cell_type": "code",
      "metadata": {
        "id": "rXV-odULSlYD",
        "colab_type": "code",
        "colab": {}
      },
      "source": [
        "def add_status(status, screen_name, writer):\n",
        "    \"\"\" Add a Tweet \"\"\"\n",
        "    output = [\n",
        "        status.id, twitter_date(status.created_at),\n",
        "        status.full_text.replace(\"\\n\", \"\"), status.retweet_count,\n",
        "        status.favorite_count\n",
        "    ]\n",
        "    writer.writerow(output)"
      ],
      "execution_count": 0,
      "outputs": []
    },
    {
      "cell_type": "code",
      "metadata": {
        "id": "2TfNa5RtSphg",
        "colab_type": "code",
        "colab": {}
      },
      "source": [
        "def add_profile(api, screen_name, writer):\n",
        "    \"\"\" Get a Twitter User by screen name\n",
        "    Args:\n",
        "        screen_name (str): The screen name, handle, or alias that this\n",
        "                            user identifies themselves with.\n",
        "    Returns:\n",
        "        User object\n",
        "    \"\"\"\n",
        "\n",
        "    try:\n",
        "        user = api.GetUser(screen_name=screen_name)\n",
        "    except twitter.error.TwitterError as error:\n",
        "        print(error.args)\n",
        "    else:\n",
        "        output = [\n",
        "            user.id, user.name, user.screen_name, user.location,\n",
        "            user.url, user.description, user.protected, user.verified,\n",
        "            user.followers_count, user.friends_count, user.favourites_count,\n",
        "            user.statuses_count, twitter_date(user.created_at),\n",
        "            user.profile_image_url,\n",
        "        ]\n",
        "\n",
        "        writer.writerow(output)"
      ],
      "execution_count": 0,
      "outputs": []
    },
    {
      "cell_type": "code",
      "metadata": {
        "id": "j-0oo7wZSp9Q",
        "colab_type": "code",
        "colab": {}
      },
      "source": [
        "start_at = '16082018'\n",
        "end_at = '29102018'\n",
        "\n",
        "targets = [\n",
        "    'jairbolsonaro', 'Haddad_Fernando', 'alvarodias_', 'CaboDaciolo', \n",
        "    'cirogomes', 'Eymaeloficial', 'geraldoalckmin', 'GuilhermeBoulos', \n",
        "    'meirelles', 'joaoamoedonovo', 'joaogoulart54', 'MarinaSilva', \n",
        "    'verapstu', 'LulaOficial'\n",
        "]\n",
        "\n",
        "consumer_key = ''\n",
        "consumer_secret = ''\n",
        "access_token_key = ''\n",
        "access_token_secret = ''\n",
        "\n",
        "api = conn_api(consumer_key, consumer_secret,\n",
        "                    access_token_key, access_token_secret)\n",
        "\n",
        "for target in targets:\n",
        "    csv_file = open(f'../data/{target.lower()}.csv', 'w+',\n",
        "                    newline='', encoding='utf-8')\n",
        "\n",
        "    csv_writer = csv.writer(csv_file, delimiter=';', quotechar='\"')\n",
        "\n",
        "    csv_writer.writerow(['id', 'name', 'screen_name', 'location', 'url', \n",
        "                         'description', 'protected', 'verified', \n",
        "                         'followers_count', 'friends_count', 'favourites_count',\n",
        "                         'statuses_count', 'created_at',\n",
        "                         'profile_image_url'])\n",
        "\n",
        "    add_profile(api, target, csv_writer)\n",
        "\n",
        "    csv_file.close()\n",
        "\n",
        "    csv_file = open(\n",
        "        f'../data/tweets/{target.lower()}_election_tweets.csv', 'w+',\n",
        "        newline='', encoding='utf-8'\n",
        "    )\n",
        "\n",
        "    writer = csv.writer(csv_file, delimiter=';', quotechar='\"')\n",
        "    writer.writerow(['id', 'created_at', 'text',\n",
        "                     'retweet_count', 'favorite_count'])\n",
        "\n",
        "    get_statuses_between_dates(api, target, start_at, end_at, writer)\n",
        "\n",
        "    csv_file.close()"
      ],
      "execution_count": 0,
      "outputs": []
    },
    {
      "cell_type": "code",
      "metadata": {
        "id": "Kw9ziIqDSz0G",
        "colab_type": "code",
        "colab": {}
      },
      "source": [
        ""
      ],
      "execution_count": 0,
      "outputs": []
    }
  ]
}